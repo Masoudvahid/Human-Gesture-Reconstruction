{
 "cells": [
  {
   "cell_type": "code",
   "execution_count": 2,
   "outputs": [],
   "source": [
    "import pandas as pd\n",
    "import numpy as np\n",
    "import os\n",
    "import itertools"
   ],
   "metadata": {
    "collapsed": false,
    "ExecuteTime": {
     "end_time": "2024-02-17T13:58:26.567142700Z",
     "start_time": "2024-02-17T13:58:25.747090100Z"
    }
   },
   "id": "a76e265ca4cab557"
  },
  {
   "cell_type": "code",
   "execution_count": 3,
   "outputs": [],
   "source": [
    "class SensorsComparator:    \n",
    "    def __init__(self, sensors_path: list):\n",
    "        self.sensors_path = sensors_path\n",
    "        self.sensors_df = None\n",
    "\n",
    "    def read_files(self):\n",
    "        dfs = list()\n",
    "        for file in self.sensors_path:\n",
    "            if os.path.exists(file):\n",
    "                dfs.append({'file_name': os.path.splitext(os.path.basename(file))[0],\n",
    "                            'data_frame': pd.read_csv(file)})\n",
    "\n",
    "        return dfs\n",
    "\n",
    "    def RMS(self, df1, df2):\n",
    "        return np.sqrt(np.mean((df1 - df2) ** 2, axis=0))\n",
    "\n",
    "    def R2S(self, df1, df2):\n",
    "        total_variation = np.sum((df1 - np.mean(df1)) ** 2, axis=0)\n",
    "        unexplained_variation = np.sum((df1 - df2) ** 2, axis=0)\n",
    "        r_squared = 1 - (unexplained_variation / total_variation)\n",
    "\n",
    "        return r_squared\n",
    "\n",
    "\n",
    "    def run(self, r2s=True, rms=False):\n",
    "        self.sensors_df = self.read_files()\n",
    "        sensors_comb = itertools.combinations(self.sensors_df, 2)\n",
    "        for df1, df2 in sensors_comb:\n",
    "            if rms:\n",
    "                rms_distance = self.RMS(df1['data_frame'], df2['data_frame'])\n",
    "                print(f\"RMS between {df1['file_name']} and {df2['file_name']}: \\n{rms_distance.to_string(dtype=False)}\")\n",
    "                \n",
    "            if r2s:\n",
    "                r2s_distance = self.R2S(df1['data_frame'], df2['data_frame'])\n",
    "                print(f\"R2S between {df1['file_name']} and {df2['file_name']}: \\n{r2s_distance.to_string(dtype=False)}\")\n"
   ],
   "metadata": {
    "collapsed": false,
    "ExecuteTime": {
     "end_time": "2024-02-17T13:58:26.591941800Z",
     "start_time": "2024-02-17T13:58:26.567142700Z"
    }
   },
   "id": "fbea0570a08fa8ac"
  },
  {
   "cell_type": "code",
   "execution_count": 4,
   "outputs": [
    {
     "name": "stdout",
     "output_type": "stream",
     "text": [
      "R2S between device_red_B0A104 and device_red_B1A105: \n",
      "accel_x    0.998742\n",
      "accel_y    0.999651\n",
      "accel_z    0.996154\n",
      "gyro_x     0.816099\n",
      "gyro_y     0.919210\n",
      "gyro_z     0.983417\n",
      "R2S between device_red_B0A104 and device_red_B1A104: \n",
      "accel_x     0.994495\n",
      "accel_y     0.973472\n",
      "accel_z    -0.244633\n",
      "gyro_x      0.845951\n",
      "gyro_y    -40.870751\n",
      "gyro_z     -4.279543\n",
      "R2S between device_red_B0A104 and device_red_B0A105: \n",
      "accel_x    0.986593\n",
      "accel_y    0.974706\n",
      "accel_z   -0.071094\n",
      "gyro_x    -0.757636\n",
      "gyro_y    -0.218991\n",
      "gyro_z    -2.975960\n",
      "R2S between device_red_B1A105 and device_red_B1A104: \n",
      "accel_x     0.997228\n",
      "accel_y     0.989519\n",
      "accel_z     0.234732\n",
      "gyro_x      0.567641\n",
      "gyro_y    -41.089450\n",
      "gyro_z     -4.542594\n",
      "R2S between device_red_B1A105 and device_red_B0A105: \n",
      "accel_x    0.994927\n",
      "accel_y    0.989906\n",
      "accel_z    0.347404\n",
      "gyro_x    -0.656844\n",
      "gyro_y    -0.349090\n",
      "gyro_z    -3.173684\n",
      "R2S between device_red_B1A104 and device_red_B0A105: \n",
      "accel_x    0.999972\n",
      "accel_y    0.999998\n",
      "accel_z    0.999815\n",
      "gyro_x     0.620704\n",
      "gyro_y    -0.511742\n",
      "gyro_z     0.566207\n"
     ]
    }
   ],
   "source": [
    "    folder_name = 'experiments/letter_W'\n",
    "    files = [\n",
    "        \"/device_red_B0A104.csv\",\n",
    "        \"/device_red_B1A105.csv\",\n",
    "        \"/device_red_B1A104.csv\",\n",
    "        \"/device_red_B0A105.csv\",\n",
    "    ]\n",
    "    files = [folder_name + file for file in files]\n",
    "    sc = SensorsComparator(files)\n",
    "    sc.run(r2s=True, rms=False)"
   ],
   "metadata": {
    "collapsed": false,
    "ExecuteTime": {
     "end_time": "2024-02-17T13:58:26.627001400Z",
     "start_time": "2024-02-17T13:58:26.581900400Z"
    }
   },
   "id": "803f5a5ce2585f8"
  }
 ],
 "metadata": {
  "kernelspec": {
   "display_name": "Python 3",
   "language": "python",
   "name": "python3"
  },
  "language_info": {
   "codemirror_mode": {
    "name": "ipython",
    "version": 2
   },
   "file_extension": ".py",
   "mimetype": "text/x-python",
   "name": "python",
   "nbconvert_exporter": "python",
   "pygments_lexer": "ipython2",
   "version": "2.7.6"
  }
 },
 "nbformat": 4,
 "nbformat_minor": 5
}
