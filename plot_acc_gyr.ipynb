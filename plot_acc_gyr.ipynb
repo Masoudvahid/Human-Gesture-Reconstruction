{
 "cells": [
  {
   "cell_type": "code",
   "execution_count": null,
   "outputs": [],
   "source": [
    "import pandas as pd\n",
    "import matplotlib\n",
    "from matplotlib.animation import FuncAnimation\n",
    "import matplotlib.pyplot as plt\n",
    "from mpl_toolkits.mplot3d import Axes3D\n",
    "\n",
    "matplotlib.use('TkAgg')  # Set the backend to TkAgg"
   ],
   "metadata": {
    "collapsed": false
   },
   "id": "fa5053ef65d40c2c"
  },
  {
   "cell_type": "code",
   "execution_count": null,
   "outputs": [],
   "source": [
    "class SensorDataVisualizer:\n",
    "    def __init__(self, sensors_path: list, threshold=1.0):\n",
    "        self.sensors_path = sensors_path\n",
    "        self.threshold = threshold\n",
    "        self.data = self.read_sensor_data()\n",
    "\n",
    "    def read_sensor_data(self):\n",
    "        dfs = list()\n",
    "        for sensor in self.sensors_path:\n",
    "            df = pd.read_csv(sensor)\n",
    "            dfs.append(df[(abs(df['accel_x']) > self.threshold) &\n",
    "                          (abs(df['accel_y']) > self.threshold) &\n",
    "                          (abs(df['accel_z']) > self.threshold)]\n",
    "                       )\n",
    "        return dfs\n",
    "\n",
    "    def visualize_motion(self, ax, data, label):\n",
    "        accel_x = data['accel_x']\n",
    "        accel_y = data['accel_y']\n",
    "        accel_z = data['accel_z']\n",
    "        gyro_x = data['gyro_x']\n",
    "        gyro_y = data['gyro_y']\n",
    "        gyro_z = data['gyro_z']\n",
    "\n",
    "        ax.set_xlabel('X Acceleration')\n",
    "        ax.set_ylabel('Y Acceleration')\n",
    "        ax.set_zlabel('Z Acceleration')\n",
    "        ax.plot(accel_x, accel_y, accel_z, marker='o', linestyle='-', markersize=2, label='Acceleration')\n",
    "        ax.plot(gyro_x, gyro_y, gyro_z, marker='o', linestyle='-', markersize=2, label='Gyroscope')\n",
    "        ax.legend()\n",
    "        ax.set_title(label)\n",
    "\n",
    "    def show_visualization(self):\n",
    "        fig, axs = plt.subplots(2, 2, figsize=(12, 8), subplot_kw={'projection': '3d'})\n",
    "        sensor_labels = [\"Sensor 1\", \"Sensor 2\", \"Sensor 3\", \"Sensor 4\"]\n",
    "        for ax, data, label in zip(axs.flatten(), self.data, sensor_labels):\n",
    "            ax.set_title(label)\n",
    "            self.visualize_motion(ax, data, label)\n",
    "\n",
    "        plt.show()\n"
   ],
   "metadata": {
    "collapsed": false
   },
   "id": "a0ea6b67f27a3bcd"
  },
  {
   "cell_type": "code",
   "execution_count": null,
   "outputs": [],
   "source": [
    "folder_name = 'experiments/helicopter'\n",
    "files = [\n",
    "    \"/device_red_B0A104.csv\",\n",
    "    \"/device_red_B1A105.csv\",\n",
    "    \"/device_red_B1A104.csv\",\n",
    "    \"/device_red_B0A105.csv\",\n",
    "]\n",
    "files = [folder_name + file for file in files]\n",
    "\n",
    "data_list = SensorDataVisualizer(sensors_path=files, threshold=0.07)\n",
    "data_list.show_visualization()"
   ],
   "metadata": {
    "collapsed": false
   },
   "id": "fe50056eb64f2ede"
  }
 ],
 "metadata": {
  "kernelspec": {
   "display_name": "Python 3",
   "language": "python",
   "name": "python3"
  },
  "language_info": {
   "codemirror_mode": {
    "name": "ipython",
    "version": 2
   },
   "file_extension": ".py",
   "mimetype": "text/x-python",
   "name": "python",
   "nbconvert_exporter": "python",
   "pygments_lexer": "ipython2",
   "version": "2.7.6"
  }
 },
 "nbformat": 4,
 "nbformat_minor": 5
}
